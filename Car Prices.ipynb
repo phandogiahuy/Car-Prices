{
 "cells": [
  {
   "cell_type": "code",
   "execution_count": 2,
   "metadata": {},
   "outputs": [],
   "source": [
    "import numpy as np\n",
    "import pandas as pd\n",
    "from sklearn import metrics, neighbors, datasets, svm\n",
    "from sklearn.metrics import precision_recall_fscore_support as score\n",
    "from sklearn.neighbors import KNeighborsClassifier\n",
    "from sklearn.model_selection import train_test_split\n",
    "from sklearn import preprocessing\n",
    "from sklearn.datasets import load_iris\n",
    "from sklearn.model_selection import train_test_split\n",
    "from sklearn.metrics import classification_report, confusion_matrix\n",
    "from sklearn.preprocessing import StandardScaler\n",
    "import pandas as pd\n",
    "import numpy\n",
    "from sklearn.preprocessing import LabelEncoder\n",
    "from numpy import random\n",
    "import seaborn as sns\n",
    "import matplotlib.pyplot as plt \n",
    "import numpy as np\n",
    "from sklearn.utils import resample\n",
    "df1 = pd.read_csv(\"https://archive.ics.uci.edu/ml/machine-learning-databases/car/car.data\",names=['buying','maint','door','persons','lug_boot','safety','review'])\n",
    "array = df1.values\n",
    "# separate array into input and output components\n",
    "X, Y = array[:, 0:7], array[:, 4]\n",
    "# ensure inputs are floats and output is an integer label"
   ]
  },
  {
   "cell_type": "code",
   "execution_count": 3,
   "metadata": {},
   "outputs": [
    {
     "data": {
      "text/html": [
       "<div>\n",
       "<style scoped>\n",
       "    .dataframe tbody tr th:only-of-type {\n",
       "        vertical-align: middle;\n",
       "    }\n",
       "\n",
       "    .dataframe tbody tr th {\n",
       "        vertical-align: top;\n",
       "    }\n",
       "\n",
       "    .dataframe thead th {\n",
       "        text-align: right;\n",
       "    }\n",
       "</style>\n",
       "<table border=\"1\" class=\"dataframe\">\n",
       "  <thead>\n",
       "    <tr style=\"text-align: right;\">\n",
       "      <th></th>\n",
       "      <th>buying</th>\n",
       "      <th>maint</th>\n",
       "      <th>door</th>\n",
       "      <th>persons</th>\n",
       "      <th>lug_boot</th>\n",
       "      <th>safety</th>\n",
       "      <th>review</th>\n",
       "    </tr>\n",
       "  </thead>\n",
       "  <tbody>\n",
       "    <tr>\n",
       "      <th>0</th>\n",
       "      <td>vhigh</td>\n",
       "      <td>vhigh</td>\n",
       "      <td>2</td>\n",
       "      <td>2</td>\n",
       "      <td>small</td>\n",
       "      <td>low</td>\n",
       "      <td>unacc</td>\n",
       "    </tr>\n",
       "    <tr>\n",
       "      <th>1</th>\n",
       "      <td>vhigh</td>\n",
       "      <td>vhigh</td>\n",
       "      <td>2</td>\n",
       "      <td>2</td>\n",
       "      <td>small</td>\n",
       "      <td>med</td>\n",
       "      <td>unacc</td>\n",
       "    </tr>\n",
       "    <tr>\n",
       "      <th>2</th>\n",
       "      <td>vhigh</td>\n",
       "      <td>vhigh</td>\n",
       "      <td>2</td>\n",
       "      <td>2</td>\n",
       "      <td>small</td>\n",
       "      <td>high</td>\n",
       "      <td>unacc</td>\n",
       "    </tr>\n",
       "    <tr>\n",
       "      <th>3</th>\n",
       "      <td>vhigh</td>\n",
       "      <td>vhigh</td>\n",
       "      <td>2</td>\n",
       "      <td>2</td>\n",
       "      <td>med</td>\n",
       "      <td>low</td>\n",
       "      <td>unacc</td>\n",
       "    </tr>\n",
       "    <tr>\n",
       "      <th>4</th>\n",
       "      <td>vhigh</td>\n",
       "      <td>vhigh</td>\n",
       "      <td>2</td>\n",
       "      <td>2</td>\n",
       "      <td>med</td>\n",
       "      <td>med</td>\n",
       "      <td>unacc</td>\n",
       "    </tr>\n",
       "  </tbody>\n",
       "</table>\n",
       "</div>"
      ],
      "text/plain": [
       "  buying  maint door persons lug_boot safety review\n",
       "0  vhigh  vhigh    2       2    small    low  unacc\n",
       "1  vhigh  vhigh    2       2    small    med  unacc\n",
       "2  vhigh  vhigh    2       2    small   high  unacc\n",
       "3  vhigh  vhigh    2       2      med    low  unacc\n",
       "4  vhigh  vhigh    2       2      med    med  unacc"
      ]
     },
     "execution_count": 3,
     "metadata": {},
     "output_type": "execute_result"
    }
   ],
   "source": [
    "df1.head()"
   ]
  },
  {
   "cell_type": "code",
   "execution_count": 4,
   "metadata": {},
   "outputs": [
    {
     "name": "stdout",
     "output_type": "stream",
     "text": [
      "[[ 1.342  1.342 -1.342 -1.225  1.225  0.     0.51 ]\n",
      " [ 1.342  1.342 -1.342 -1.225  1.225  1.225  0.51 ]\n",
      " [ 1.342  1.342 -1.342 -1.225  1.225 -1.225  0.51 ]\n",
      " [ 1.342  1.342 -1.342 -1.225  0.     0.     0.51 ]]\n",
      "[0.000e+00 0.000e+00 1.645e-17 0.000e+00 0.000e+00 0.000e+00 4.112e-18]\n",
      "[1. 1. 1. 1. 1. 1. 1.]\n"
     ]
    }
   ],
   "source": [
    "Le= LabelEncoder()\n",
    "X[:,0] = Le.fit_transform(X[:, 0])\n",
    "X[:, 1] = Le.fit_transform(X[:, 1])\n",
    "X[:, 4] = Le.fit_transform(X[:, 4])\n",
    "X[:, 2] = Le.fit_transform(X[:, 2])\n",
    "X[:, 3] = Le.fit_transform(X[:, 3])\n",
    "X[:, 5] = Le.fit_transform(X[:, 5])\n",
    "X[:, 6] = Le.fit_transform(X[:, 6])\n",
    "\n",
    "scaler = StandardScaler().fit(X)\n",
    "rescaledX = scaler.transform(X)\n",
    "\n",
    "# summarize transformed data\n",
    "numpy.set_printoptions(precision=3)\n",
    "print(rescaledX[0:4,:])\n",
    "print (rescaledX.mean(axis = 0))      # tính giá trị trung bình mỗi cột\n",
    "print (rescaledX.std(axis = 0))       # tính giá trị phương sai mỗi cột\n"
   ]
  },
  {
   "cell_type": "code",
   "execution_count": 5,
   "metadata": {},
   "outputs": [
    {
     "data": {
      "text/html": [
       "<div>\n",
       "<style scoped>\n",
       "    .dataframe tbody tr th:only-of-type {\n",
       "        vertical-align: middle;\n",
       "    }\n",
       "\n",
       "    .dataframe tbody tr th {\n",
       "        vertical-align: top;\n",
       "    }\n",
       "\n",
       "    .dataframe thead th {\n",
       "        text-align: right;\n",
       "    }\n",
       "</style>\n",
       "<table border=\"1\" class=\"dataframe\">\n",
       "  <thead>\n",
       "    <tr style=\"text-align: right;\">\n",
       "      <th></th>\n",
       "      <th>buying</th>\n",
       "      <th>maint</th>\n",
       "      <th>door</th>\n",
       "      <th>persons</th>\n",
       "      <th>lug_boot</th>\n",
       "      <th>safety</th>\n",
       "      <th>review</th>\n",
       "    </tr>\n",
       "  </thead>\n",
       "  <tbody>\n",
       "    <tr>\n",
       "      <th>0</th>\n",
       "      <td>3</td>\n",
       "      <td>3</td>\n",
       "      <td>0</td>\n",
       "      <td>0</td>\n",
       "      <td>2</td>\n",
       "      <td>1</td>\n",
       "      <td>2</td>\n",
       "    </tr>\n",
       "    <tr>\n",
       "      <th>1</th>\n",
       "      <td>3</td>\n",
       "      <td>3</td>\n",
       "      <td>0</td>\n",
       "      <td>0</td>\n",
       "      <td>2</td>\n",
       "      <td>2</td>\n",
       "      <td>2</td>\n",
       "    </tr>\n",
       "    <tr>\n",
       "      <th>2</th>\n",
       "      <td>3</td>\n",
       "      <td>3</td>\n",
       "      <td>0</td>\n",
       "      <td>0</td>\n",
       "      <td>2</td>\n",
       "      <td>0</td>\n",
       "      <td>2</td>\n",
       "    </tr>\n",
       "    <tr>\n",
       "      <th>3</th>\n",
       "      <td>3</td>\n",
       "      <td>3</td>\n",
       "      <td>0</td>\n",
       "      <td>0</td>\n",
       "      <td>1</td>\n",
       "      <td>1</td>\n",
       "      <td>2</td>\n",
       "    </tr>\n",
       "    <tr>\n",
       "      <th>4</th>\n",
       "      <td>3</td>\n",
       "      <td>3</td>\n",
       "      <td>0</td>\n",
       "      <td>0</td>\n",
       "      <td>1</td>\n",
       "      <td>2</td>\n",
       "      <td>2</td>\n",
       "    </tr>\n",
       "  </tbody>\n",
       "</table>\n",
       "</div>"
      ],
      "text/plain": [
       "  buying maint door persons lug_boot safety review\n",
       "0      3     3    0       0        2      1      2\n",
       "1      3     3    0       0        2      2      2\n",
       "2      3     3    0       0        2      0      2\n",
       "3      3     3    0       0        1      1      2\n",
       "4      3     3    0       0        1      2      2"
      ]
     },
     "execution_count": 5,
     "metadata": {},
     "output_type": "execute_result"
    }
   ],
   "source": [
    "df1.head()"
   ]
  },
  {
   "cell_type": "code",
   "execution_count": 6,
   "metadata": {},
   "outputs": [
    {
     "name": "stdout",
     "output_type": "stream",
     "text": [
      "Good: 1210\n",
      "Vgood: 384\n",
      "unacc: 69\n",
      "acc: 65\n"
     ]
    },
    {
     "data": {
      "image/png": "[encoded data removed]",
      "text/plain": [
       "<Figure size 432x288 with 1 Axes>"
      ]
     },
     "metadata": {
      "needs_background": "light"
     },
     "output_type": "display_data"
    }
   ],
   "source": [
    "good, vgood, unacc, acc = df1.review.value_counts()\n",
    "print(f'Good: {good}')\n",
    "print(f'Vgood: {vgood}')\n",
    "print(f'unacc: {unacc}')\n",
    "print(f'acc: {acc}')\n",
    "sns.countplot(x = 'review', data = df1);"
   ]
  },
  {
   "cell_type": "markdown",
   "metadata": {},
   "source": [
    "thể hiện trong phân loại giá xe có thì số review tốt cao nhất và thấp nhất là acc"
   ]
  },
  {
   "cell_type": "markdown",
   "metadata": {},
   "source": [
    "# Ta tiến hành biến đổi dữ liệu từ chữ thành số và tách ra 2 tập train, test để traning model"
   ]
  },
  {
   "cell_type": "code",
   "execution_count": 7,
   "metadata": {},
   "outputs": [],
   "source": [
    "X=df1.iloc[:,:-1]\n",
    "Y = df1.loc[:,[\"review\"]]\n",
    "le1 = preprocessing.LabelEncoder()\n",
    "le2 = preprocessing.LabelEncoder()\n",
    "X=X.apply(le1.fit_transform)\n",
    "Y=Y.apply(le2.fit_transform)\n",
    "X_train, X_test, y_train, y_test = train_test_split(X, Y, test_size=0.5, random_state=0)\n"
   ]
  },
  {
   "cell_type": "markdown",
   "metadata": {},
   "source": [
    "ta tách tập dữ liệu ra 2 phần 50% test và 50% đem train"
   ]
  },
  {
   "cell_type": "markdown",
   "metadata": {},
   "source": [
    "#  - Tiến hành Training Model\n",
    "## - Ta sử dụng các thư viện train như knn, naive_bayes ,make_pipeline, and MLP"
   ]
  },
  {
   "cell_type": "code",
   "execution_count": 8,
   "metadata": {},
   "outputs": [
    {
     "name": "stdout",
     "output_type": "stream",
     "text": [
      "[[137   0  56   0]\n",
      " [ 17   9   6   0]\n",
      " [ 29   1 569   0]\n",
      " [ 20   2   4  14]]\n",
      "              precision    recall  f1-score   support\n",
      "\n",
      "           0       0.67      0.71      0.69       193\n",
      "           1       0.75      0.28      0.41        32\n",
      "           2       0.90      0.95      0.92       599\n",
      "           3       1.00      0.35      0.52        40\n",
      "\n",
      "    accuracy                           0.84       864\n",
      "   macro avg       0.83      0.57      0.64       864\n",
      "weighted avg       0.85      0.84      0.83       864\n",
      "\n"
     ]
    }
   ],
   "source": [
    "from sklearn.neighbors import KNeighborsClassifier\n",
    "neigh = KNeighborsClassifier(n_neighbors=3)\n",
    "y_pred = neigh.fit(X_train, y_train.values.ravel())\n",
    "predictions = neigh.predict(X_test)\n",
    "print(confusion_matrix(y_test,predictions))\n",
    "print(classification_report(y_test,predictions))"
   ]
  },
  {
   "cell_type": "code",
   "execution_count": 10,
   "metadata": {},
   "outputs": [
    {
     "name": "stdout",
     "output_type": "stream",
     "text": [
      "[[ 13   1  86  93]\n",
      " [  4   1  13  14]\n",
      " [  4   0 511  84]\n",
      " [  0   0   0  40]]\n",
      "              precision    recall  f1-score   support\n",
      "\n",
      "           0       0.62      0.07      0.12       193\n",
      "           1       0.50      0.03      0.06        32\n",
      "           2       0.84      0.85      0.85       599\n",
      "           3       0.17      1.00      0.30        40\n",
      "\n",
      "    accuracy                           0.65       864\n",
      "   macro avg       0.53      0.49      0.33       864\n",
      "weighted avg       0.75      0.65      0.63       864\n",
      "\n"
     ]
    }
   ],
   "source": [
    "from sklearn.naive_bayes import GaussianNB\n",
    "gnb = GaussianNB()\n",
    "y_pred = gnb.fit(X_train, y_train.values.ravel())\n",
    "predictions = gnb.predict(X_test)\n",
    "print(confusion_matrix(y_test,predictions))\n",
    "print(classification_report(y_test,predictions))"
   ]
  },
  {
   "cell_type": "code",
   "execution_count": 11,
   "metadata": {},
   "outputs": [
    {
     "name": "stdout",
     "output_type": "stream",
     "text": [
      "[[ 13   1  86  93]\n",
      " [  4   1  13  14]\n",
      " [  4   0 511  84]\n",
      " [  0   0   0  40]]\n",
      "              precision    recall  f1-score   support\n",
      "\n",
      "           0       0.62      0.07      0.12       193\n",
      "           1       0.50      0.03      0.06        32\n",
      "           2       0.84      0.85      0.85       599\n",
      "           3       0.17      1.00      0.30        40\n",
      "\n",
      "    accuracy                           0.65       864\n",
      "   macro avg       0.53      0.49      0.33       864\n",
      "weighted avg       0.75      0.65      0.63       864\n",
      "\n"
     ]
    }
   ],
   "source": [
    "from sklearn.naive_bayes import MultinomialNB\n",
    "clf = MultinomialNB()\n",
    "clf.fit(X_train, y_train.values.ravel())\n",
    "predictions1 = gnb.predict(X_test)\n",
    "print(confusion_matrix(y_test,predictions1))\n",
    "print(classification_report(y_test,predictions1))"
   ]
  },
  {
   "cell_type": "code",
   "execution_count": 12,
   "metadata": {},
   "outputs": [
    {
     "name": "stdout",
     "output_type": "stream",
     "text": [
      "[[ 13   1  86  93]\n",
      " [  4   1  13  14]\n",
      " [  4   0 511  84]\n",
      " [  0   0   0  40]]\n",
      "              precision    recall  f1-score   support\n",
      "\n",
      "           0       0.62      0.07      0.12       193\n",
      "           1       0.50      0.03      0.06        32\n",
      "           2       0.84      0.85      0.85       599\n",
      "           3       0.17      1.00      0.30        40\n",
      "\n",
      "    accuracy                           0.65       864\n",
      "   macro avg       0.53      0.49      0.33       864\n",
      "weighted avg       0.75      0.65      0.63       864\n",
      "\n"
     ]
    }
   ],
   "source": [
    "from sklearn.naive_bayes import BernoulliNB\n",
    "clf1 = BernoulliNB()\n",
    "clf1.fit(X_train, y_train.values.ravel())\n",
    "predictions2 = gnb.predict(X_test)\n",
    "print(confusion_matrix(y_test,predictions2))\n",
    "print(classification_report(y_test,predictions2))"
   ]
  },
  {
   "cell_type": "code",
   "execution_count": 13,
   "metadata": {},
   "outputs": [
    {
     "name": "stdout",
     "output_type": "stream",
     "text": [
      "[[158   0  35   0]\n",
      " [ 32   0   0   0]\n",
      " [ 31   0 568   0]\n",
      " [ 32   0   0   8]]\n",
      "              precision    recall  f1-score   support\n",
      "\n",
      "           0       0.62      0.82      0.71       193\n",
      "           1       0.00      0.00      0.00        32\n",
      "           2       0.94      0.95      0.95       599\n",
      "           3       1.00      0.20      0.33        40\n",
      "\n",
      "    accuracy                           0.85       864\n",
      "   macro avg       0.64      0.49      0.50       864\n",
      "weighted avg       0.84      0.85      0.83       864\n",
      "\n"
     ]
    },
    {
     "name": "stderr",
     "output_type": "stream",
     "text": [
      "c:\\users\\admin\\appdata\\local\\programs\\python\\python39\\lib\\site-packages\\sklearn\\metrics\\_classification.py:1245: UndefinedMetricWarning: Precision and F-score are ill-defined and being set to 0.0 in labels with no predicted samples. Use `zero_division` parameter to control this behavior.\n",
      "  _warn_prf(average, modifier, msg_start, len(result))\n",
      "c:\\users\\admin\\appdata\\local\\programs\\python\\python39\\lib\\site-packages\\sklearn\\metrics\\_classification.py:1245: UndefinedMetricWarning: Precision and F-score are ill-defined and being set to 0.0 in labels with no predicted samples. Use `zero_division` parameter to control this behavior.\n",
      "  _warn_prf(average, modifier, msg_start, len(result))\n",
      "c:\\users\\admin\\appdata\\local\\programs\\python\\python39\\lib\\site-packages\\sklearn\\metrics\\_classification.py:1245: UndefinedMetricWarning: Precision and F-score are ill-defined and being set to 0.0 in labels with no predicted samples. Use `zero_division` parameter to control this behavior.\n",
      "  _warn_prf(average, modifier, msg_start, len(result))\n"
     ]
    }
   ],
   "source": [
    "from sklearn.svm import SVC\n",
    "from sklearn.pipeline import make_pipeline\n",
    "from sklearn.preprocessing import StandardScaler\n",
    "clf2 = make_pipeline(StandardScaler(), SVC(gamma='auto'))\n",
    "clf2.fit(X_train, y_train.values.ravel())\n",
    "predictions2 = clf2.predict(X_test)\n",
    "print(confusion_matrix(y_test,predictions2))\n",
    "print(classification_report(y_test,predictions2))"
   ]
  },
  {
   "cell_type": "code",
   "execution_count": 14,
   "metadata": {},
   "outputs": [
    {
     "name": "stderr",
     "output_type": "stream",
     "text": [
      "c:\\users\\admin\\appdata\\local\\programs\\python\\python39\\lib\\site-packages\\sklearn\\utils\\validation.py:63: DataConversionWarning: A column-vector y was passed when a 1d array was expected. Please change the shape of y to (n_samples, ), for example using ravel().\n",
      "  return f(*args, **kwargs)\n"
     ]
    },
    {
     "name": "stdout",
     "output_type": "stream",
     "text": [
      "[[174   5  14   0]\n",
      " [ 11  21   0   0]\n",
      " [ 22   0 577   0]\n",
      " [ 14  19   0   7]]\n",
      "              precision    recall  f1-score   support\n",
      "\n",
      "           0       0.79      0.90      0.84       193\n",
      "           1       0.47      0.66      0.55        32\n",
      "           2       0.98      0.96      0.97       599\n",
      "           3       1.00      0.17      0.30        40\n",
      "\n",
      "    accuracy                           0.90       864\n",
      "   macro avg       0.81      0.67      0.66       864\n",
      "weighted avg       0.92      0.90      0.89       864\n",
      "\n"
     ]
    },
    {
     "name": "stderr",
     "output_type": "stream",
     "text": [
      "c:\\users\\admin\\appdata\\local\\programs\\python\\python39\\lib\\site-packages\\sklearn\\neural_network\\_multilayer_perceptron.py:614: ConvergenceWarning: Stochastic Optimizer: Maximum iterations (300) reached and the optimization hasn't converged yet.\n",
      "  warnings.warn(\n"
     ]
    }
   ],
   "source": [
    "from sklearn.neural_network import MLPClassifier\n",
    "from sklearn.datasets import make_classification\n",
    "clf3 = MLPClassifier(hidden_layer_sizes=(10,10,10),random_state=1, max_iter=300).fit(X_train, y_train)\n",
    "predictions2 = clf3.predict(X_test)\n",
    "print(confusion_matrix(y_test,predictions2))\n",
    "print(classification_report(y_test,predictions2))"
   ]
  },
  {
   "cell_type": "markdown",
   "metadata": {},
   "source": [
    "# Ta thấy qua các loại model để train thì ta sắp xếp độ chính xác của các model sẽ là: \n",
    "## MLP > make_pipeline > knn > naive_bayes"
   ]
  },
  {
   "cell_type": "code",
   "execution_count": 15,
   "metadata": {},
   "outputs": [
    {
     "name": "stdout",
     "output_type": "stream",
     "text": [
      "Epoch 1/10\n",
      "27/27 [==============================] - 0s 785us/step - loss: 1.3702\n",
      "Epoch 2/10\n",
      "27/27 [==============================] - 0s 844us/step - loss: 0.9359\n",
      "Epoch 3/10\n",
      "27/27 [==============================] - 0s 903us/step - loss: 0.8757\n",
      "Epoch 4/10\n",
      "27/27 [==============================] - 0s 997us/step - loss: 0.8346\n",
      "Epoch 5/10\n",
      "27/27 [==============================] - 0s 800us/step - loss: 0.8098\n",
      "Epoch 6/10\n",
      "27/27 [==============================] - 0s 864us/step - loss: 0.7864\n",
      "Epoch 7/10\n",
      "27/27 [==============================] - 0s 767us/step - loss: 0.7703\n",
      "Epoch 8/10\n",
      "27/27 [==============================] - 0s 1ms/step - loss: 0.7500\n",
      "Epoch 9/10\n",
      "27/27 [==============================] - 0s 997us/step - loss: 0.7462\n",
      "Epoch 10/10\n",
      "27/27 [==============================] - 0s 730us/step - loss: 0.7320\n"
     ]
    }
   ],
   "source": [
    "import tensorflow as tf\n",
    "model = tf.keras.Sequential()\n",
    "model.add(tf.keras.layers.Dense(8))\n",
    "model.add(tf.keras.layers.Dense(1))\n",
    "model.compile(optimizer='sgd', loss='mse')\n",
    "# This builds the model for the first time:\n",
    "clf4=model.fit(X_train, y_train, batch_size=32, epochs=10)"
   ]
  },
  {
   "cell_type": "markdown",
   "metadata": {},
   "source": [
    "# ta sẽ vẽ biểu đồ để coi tỉ lệ mất mát của train và test"
   ]
  },
  {
   "cell_type": "code",
   "execution_count": 16,
   "metadata": {},
   "outputs": [
    {
     "data": {
      "image/png": "[encoded data removed]",
      "text/plain": [
       "<Figure size 432x288 with 1 Axes>"
      ]
     },
     "metadata": {
      "needs_background": "light"
     },
     "output_type": "display_data"
    }
   ],
   "source": [
    "es = tf.keras.callbacks.EarlyStopping(monitor='loss', patience=3)\n",
    "model = tf.keras.models.Sequential([tf.keras.layers.Dense(10)])\n",
    "model.compile(tf.keras.optimizers.SGD(), loss='mse')\n",
    "history = model.fit(X_train, y_train, validation_data=(X_test, y_test), epochs=4000, verbose=0, callbacks=[es])\n",
    "plt.plot(history.history['loss'], label='train')\n",
    "plt.plot(history.history['val_loss'], label='test')\n",
    "plt.legend()\n",
    "plt.show()"
   ]
  },
  {
   "cell_type": "markdown",
   "metadata": {},
   "source": [
    "ta thấy gần như nó fit nhau chứng tỏ nếu ta càng train thì sai số của train và test sẽ càng giảm và độ chính xác sẽ cao"
   ]
  },
  {
   "cell_type": "code",
   "execution_count": null,
   "metadata": {},
   "outputs": [],
   "source": []
  }
 ],
 "metadata": {
  "kernelspec": {
   "display_name": "Python 3",
   "language": "python",
   "name": "python3"
  },
  "language_info": {
   "codemirror_mode": {
    "name": "ipython",
    "version": 3
   },
   "file_extension": ".py",
   "mimetype": "text/x-python",
   "name": "python",
   "nbconvert_exporter": "python",
   "pygments_lexer": "ipython3",
   "version": "3.9.0"
  }
 },
 "nbformat": 4,
 "nbformat_minor": 4
}
